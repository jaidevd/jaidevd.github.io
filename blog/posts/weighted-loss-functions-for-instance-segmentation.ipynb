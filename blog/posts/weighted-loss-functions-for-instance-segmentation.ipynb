{
 "cells": [
  {
   "cell_type": "code",
   "execution_count": 1,
   "metadata": {
    "collapsed": true
   },
   "outputs": [],
   "source": [
    "import matplotlib.pyplot as plt\n",
    "import numpy as np\n",
    "from skimage import draw\n",
    "from skimage.filters import threshold_otsu\n",
    "from skimage.io import imread\n",
    "from skimage.measure import label, regionprops\n",
    "from skimage.morphology import binary_dilation, closing, disk\n",
    "from skimage.segmentation import find_boundaries\n",
    "from skimage.transform import resize\n",
    "from skimage.util import img_as_ubyte\n",
    "from sklearn.metrics import roc_auc_score\n",
    "%matplotlib inline"
   ]
  },
  {
   "cell_type": "code",
   "execution_count": 2,
   "metadata": {},
   "outputs": [
    {
     "data": {
      "image/png": "[encoded data removed]",
      "text/plain": [
       "<matplotlib.figure.Figure at 0x110efd630>"
      ]
     },
     "metadata": {},
     "output_type": "display_data"
    }
   ],
   "source": [
    "x = np.zeros((256, 256))\n",
    "cy, cx = 80, 80\n",
    "radius = 64\n",
    "cy2 = cx2 = (np.sqrt(cy **2 + cx **2) + 2 * radius) * np.cos(np.pi / 4) + 1\n",
    "o1r, o1c = draw.circle(cy, cx, radius)\n",
    "o2r, o2c = draw.circle(cy2, cx2, radius)\n",
    "x[o1r, o1c] = 1\n",
    "x[o2r, o2c] = 1\n",
    "plt.imshow(x)\n",
    "_ = plt.axis('off')"
   ]
  },
  {
   "cell_type": "code",
   "execution_count": 3,
   "metadata": {},
   "outputs": [
    {
     "data": {
      "text/plain": [
       "<matplotlib.image.AxesImage at 0x1116afcf8>"
      ]
     },
     "execution_count": 3,
     "metadata": {},
     "output_type": "execute_result"
    },
    {
     "data": {
      "image/png": "[encoded data removed]",
      "text/plain": [
       "<matplotlib.figure.Figure at 0x104925128>"
      ]
     },
     "metadata": {},
     "output_type": "display_data"
    }
   ],
   "source": [
    "plt.imshow(binary_dilation(x))"
   ]
  },
  {
   "cell_type": "code",
   "execution_count": 4,
   "metadata": {},
   "outputs": [
    {
     "data": {
      "image/png": "[encoded data removed]",
      "text/plain": [
       "<matplotlib.figure.Figure at 0x110f77898>"
      ]
     },
     "metadata": {},
     "output_type": "display_data"
    },
    {
     "data": {
      "image/png": "[encoded data removed]",
      "text/plain": [
       "<matplotlib.figure.Figure at 0x110efd780>"
      ]
     },
     "metadata": {},
     "output_type": "display_data"
    }
   ],
   "source": [
    "xlabel = label(x)\n",
    "regions = regionprops(xlabel)\n",
    "ground_truth_masks = []\n",
    "for region in regions:\n",
    "    rrows, rcols = zip(region.coords.T)\n",
    "    X = np.zeros((256, 256))\n",
    "    X[rrows, rcols] = 1\n",
    "    ground_truth_masks.append(X)\n",
    "    plt.figure()\n",
    "    plt.imshow(X)\n",
    "ground_truth_masks = np.array(ground_truth_masks)"
   ]
  },
  {
   "cell_type": "code",
   "execution_count": 5,
   "metadata": {
    "collapsed": true
   },
   "outputs": [],
   "source": [
    "predicted_mask = np.array([binary_dilation(x)])"
   ]
  },
  {
   "cell_type": "code",
   "execution_count": 6,
   "metadata": {
    "collapsed": true
   },
   "outputs": [],
   "source": [
    "y_true = ground_truth_masks.sum(0)\n",
    "y_pred = predicted_mask.sum(0)"
   ]
  },
  {
   "cell_type": "code",
   "execution_count": null,
   "metadata": {
    "collapsed": true
   },
   "outputs": [],
   "source": []
  },
  {
   "cell_type": "code",
   "execution_count": 7,
   "metadata": {},
   "outputs": [
    {
     "data": {
      "text/plain": [
       "0.9908531222515392"
      ]
     },
     "execution_count": 7,
     "metadata": {},
     "output_type": "execute_result"
    }
   ],
   "source": [
    "roc_auc_score(y_true.ravel(), y_pred.ravel())"
   ]
  },
  {
   "cell_type": "markdown",
   "metadata": {},
   "source": [
    "# IOU"
   ]
  },
  {
   "cell_type": "code",
   "execution_count": 8,
   "metadata": {
    "collapsed": true
   },
   "outputs": [],
   "source": [
    "THRESHOLDS = np.arange(0.5, 1, 0.05).reshape(10, 1, 1)"
   ]
  },
  {
   "cell_type": "code",
   "execution_count": 9,
   "metadata": {
    "collapsed": true
   },
   "outputs": [],
   "source": [
    "def iou(masks_true, masks_pred):\n",
    "    \"\"\"\n",
    "    Get the IOU between each predicted mask and each true mask.\n",
    "\n",
    "    Parameters\n",
    "    ----------------\n",
    "\n",
    "    masks_true : vartype\n",
    "        masks_true is\n",
    "    masks_pred : vartype\n",
    "        masks_pred is\n",
    "\n",
    "    Returns\n",
    "    ----------------\n",
    "\n",
    "    \"\"\"\n",
    "    if masks_true.shape[1:] != masks_pred.shape[1:]:\n",
    "        raise ValueError('Predicted masks have wrong shape!')\n",
    "    n_true_masks, height, width = masks_true.shape\n",
    "    n_pred_masks = masks_pred.shape[0]\n",
    "    m_true = masks_true.copy().reshape(n_true_masks, height * width).T\n",
    "    m_pred = masks_pred.copy().reshape(n_pred_masks, height * width)\n",
    "    numerator = np.dot(m_pred, m_true)\n",
    "    denominator = m_pred.sum(1).reshape(-1, 1) + m_true.sum(0).reshape(1, -1)\n",
    "    return numerator / (denominator - numerator)\n",
    "\n",
    "def evaluate_image(masks_true, masks_pred):\n",
    "    \"\"\"\n",
    "    Get the MAP for the true and predicted masks of a single image.\n",
    "\n",
    "    Parameters\n",
    "    ----------------\n",
    "\n",
    "    masks_true : vartype\n",
    "        masks_true is\n",
    "    masks_pred : vartype\n",
    "        masks_pred is\n",
    "\n",
    "    Returns\n",
    "    ----------------\n",
    "\n",
    "    \"\"\"\n",
    "    int_o_un = iou(masks_true, masks_pred)\n",
    "    benched = int_o_un > THRESHOLDS\n",
    "    tp = benched.sum(-1).sum(-1)  # noqa\n",
    "    fp = (benched.sum(2) == 0).sum(1)\n",
    "    fn = (benched.sum(1) == 0).sum(1)\n",
    "    return np.mean(tp / (tp + fp + fn))"
   ]
  },
  {
   "cell_type": "code",
   "execution_count": 10,
   "metadata": {},
   "outputs": [
    {
     "data": {
      "text/plain": [
       "0.0"
      ]
     },
     "execution_count": 10,
     "metadata": {},
     "output_type": "execute_result"
    }
   ],
   "source": [
    "evaluate_image(ground_truth_masks, predicted_mask)"
   ]
  },
  {
   "cell_type": "code",
   "execution_count": 11,
   "metadata": {},
   "outputs": [
    {
     "data": {
      "text/plain": [
       "array([[0.48543579, 0.48706033]])"
      ]
     },
     "execution_count": 11,
     "metadata": {},
     "output_type": "execute_result"
    }
   ],
   "source": [
    "iou(ground_truth_masks, predicted_mask)"
   ]
  },
  {
   "cell_type": "markdown",
   "metadata": {},
   "source": [
    "# New predictions"
   ]
  },
  {
   "cell_type": "code",
   "execution_count": 12,
   "metadata": {},
   "outputs": [
    {
     "data": {
      "image/png": "[encoded data removed]",
      "text/plain": [
       "<matplotlib.figure.Figure at 0x111857518>"
      ]
     },
     "metadata": {},
     "output_type": "display_data"
    }
   ],
   "source": [
    "xnew = np.zeros((256, 256))\n",
    "cy, cx = 80, 80\n",
    "radiusn = 58\n",
    "cy2 = cx2 = (np.sqrt(cy **2 + cx **2) + 2 * 64) * np.cos(np.pi / 4) + 1\n",
    "o1r, o1c = draw.circle(cy, cx, radiusn)\n",
    "o2r, o2c = draw.circle(cy2, cx2, radiusn)\n",
    "xnew[o1r, o1c] = 1\n",
    "xnew[o2r, o2c] = 1\n",
    "plt.imshow(xnew)\n",
    "_ = plt.axis('off')"
   ]
  },
  {
   "cell_type": "code",
   "execution_count": 13,
   "metadata": {
    "collapsed": true
   },
   "outputs": [],
   "source": [
    "xlabelnew = label(xnew)\n",
    "regions = regionprops(xlabelnew)\n",
    "predicted_masks_new = []\n",
    "for region in regions:\n",
    "    rrows, rcols = zip(region.coords.T)\n",
    "    X = np.zeros((256, 256))\n",
    "    X[rrows, rcols] = 1\n",
    "    predicted_masks_new.append(X)"
   ]
  },
  {
   "cell_type": "code",
   "execution_count": 14,
   "metadata": {
    "collapsed": true
   },
   "outputs": [],
   "source": [
    "y_pred_new = np.array(predicted_masks_new)\n",
    "y_pred_new = y_pred_new.sum(0)"
   ]
  },
  {
   "cell_type": "code",
   "execution_count": 15,
   "metadata": {},
   "outputs": [
    {
     "data": {
      "text/plain": [
       "0.9102598966629113"
      ]
     },
     "execution_count": 15,
     "metadata": {},
     "output_type": "execute_result"
    }
   ],
   "source": [
    "roc_auc_score(y_true.ravel(), y_pred_new.ravel())"
   ]
  },
  {
   "cell_type": "code",
   "execution_count": 16,
   "metadata": {
    "collapsed": true
   },
   "outputs": [],
   "source": [
    "masks_pred_new = np.array(predicted_masks_new)"
   ]
  },
  {
   "cell_type": "code",
   "execution_count": 17,
   "metadata": {},
   "outputs": [
    {
     "data": {
      "text/plain": [
       "0.7"
      ]
     },
     "execution_count": 17,
     "metadata": {},
     "output_type": "execute_result"
    }
   ],
   "source": [
    "evaluate_image(ground_truth_masks, masks_pred_new)"
   ]
  },
  {
   "cell_type": "code",
   "execution_count": 18,
   "metadata": {
    "collapsed": true
   },
   "outputs": [],
   "source": [
    "# conclusion: segmentation errors are penalized a lot more than pixelwise loss,\n",
    "# pixelwise accuracy is rewarded a lot less than correct segmentation"
   ]
  },
  {
   "cell_type": "code",
   "execution_count": 19,
   "metadata": {},
   "outputs": [
    {
     "data": {
      "text/plain": [
       "<matplotlib.image.AxesImage at 0x111e03390>"
      ]
     },
     "execution_count": 19,
     "metadata": {},
     "output_type": "execute_result"
    },
    {
     "data": {
      "image/png": "[encoded data removed]",
      "text/plain": [
       "<matplotlib.figure.Figure at 0x110ecfba8>"
      ]
     },
     "metadata": {},
     "output_type": "display_data"
    }
   ],
   "source": [
    "plt.imshow(np.abs(y_true - y_pred_new))"
   ]
  },
  {
   "cell_type": "markdown",
   "metadata": {},
   "source": [
    "# Understanding the metric:"
   ]
  },
  {
   "cell_type": "markdown",
   "metadata": {},
   "source": [
    "|$p_{1}$|$p_{2}$|$p_{3}$|$…$|$p_{l}$\n",
    ":-----:|:-----:|:-----:|:-----:|:-----:|:-----:\n",
    "$a_{1}$|$O_{11}$|$O_{12}$|$O_{13}$|$…$|$O_{1l}$\n",
    "$a_{2}$|$O_{21}$|$O_{22}$|$O_{23}$|$…$|$O_{2l}$\n",
    "$a_{3}$|$O_{31}$|$O_{32}$|$O_{33}$|$…$|$O_{3l}$\n",
    "…|…|…|…|…|…\n",
    "$a_k$|$O_{k1}$|$O_{k2}$|$O_{k3}$|$…$|$O_{kl}$\n"
   ]
  },
  {
   "cell_type": "code",
   "execution_count": 20,
   "metadata": {},
   "outputs": [
    {
     "name": "stderr",
     "output_type": "stream",
     "text": [
      "/Users/jaidevd/anaconda3/lib/python3.6/site-packages/skimage/util/dtype.py:122: UserWarning: Possible precision loss when converting from float64 to uint8\n",
      "  .format(dtypeobj_in, dtypeobj_out))\n",
      "/Users/jaidevd/anaconda3/lib/python3.6/site-packages/skimage/transform/_warps.py:84: UserWarning: The default mode, 'constant', will be changed to 'reflect' in skimage 0.15.\n",
      "  warn(\"The default mode, 'constant', will be changed to 'reflect' in \"\n"
     ]
    },
    {
     "data": {
      "image/png": "[encoded data removed]",
      "text/plain": [
       "<matplotlib.figure.Figure at 0x1123a4080>"
      ]
     },
     "metadata": {},
     "output_type": "display_data"
    }
   ],
   "source": [
    "def unsupervised_regions(image, threshold, blocksize):\n",
    "    image = img_as_ubyte(image)\n",
    "    masks = []\n",
    "    thresh = threshold(image, blocksize)\n",
    "    bw = closing(image > thresh, disk(5))\n",
    "    labeled = label(bw)\n",
    "    regions = regionprops(labeled)\n",
    "    for region in regions:\n",
    "        mask = np.zeros(image.shape)\n",
    "        minr, minc, maxr, maxc = region.bbox\n",
    "        mask[minr:maxr, minc:maxc] = region.image.astype(int)\n",
    "        masks.append(mask)\n",
    "    return np.array(masks)\n",
    "\n",
    "\n",
    "def inverse_rle(x, imsize):\n",
    "    mask = np.zeros(imsize, dtype=bool).ravel(order='F')\n",
    "    for startix, length in zip(x[::2], x[1::2]):\n",
    "        mask[(startix - 1):(startix - 1 + length)] = True\n",
    "    return mask.reshape(imsize, order='F')\n",
    "\n",
    "\n",
    "# IDEAL_IMAGEID = '2a2032c4ed78f3fc64de7e5efd0bec26a81680b07404eaa54a1744b7ab3f8365'\n",
    "ORIGINAL_SIZE = 360, 360\n",
    "x = imread('images/iou-example.jpg', as_grey=True)\n",
    "\n",
    "predicted_masks = unsupervised_regions(x, threshold_otsu, 3)\n",
    "predicted_masks = predicted_masks.astype(int)\n",
    "labeled = label(predicted_masks.sum(0))\n",
    "\n",
    "act_masks = []\n",
    "with open('data/iou-mask-rle.txt', 'r') as fin:\n",
    "    rle_masks = fin.readlines()\n",
    "for mask in rle_masks:\n",
    "    maskarray = inverse_rle(list(map(int, mask.rstrip().split())), ORIGINAL_SIZE)\n",
    "    act_masks.append(maskarray)\n",
    "act_masks = np.array(act_masks)\n",
    "act_masks = resize(act_masks.T, x.shape[::-1], preserve_range=True).T.astype(int)\n",
    "y_label = label(act_masks.sum(0))\n",
    "\n",
    "act_centers = []\n",
    "predicted_centers = []\n",
    "for mask in act_masks:\n",
    "    r = regionprops(mask)[0]\n",
    "    rmin, cmin, rmax, cmax = r.bbox\n",
    "    rc = (rmin + rmax) / 2\n",
    "    cc = (cmin + cmax) / 2\n",
    "    act_centers.append((rc, cc))\n",
    "\n",
    "for mask in predicted_masks:\n",
    "    r = regionprops(mask)[0]\n",
    "    rmin, cmin, rmax, cmax = r.bbox\n",
    "    rc = (rmin + rmax) / 2\n",
    "    cc = (cmin + cmax) / 2\n",
    "    predicted_centers.append((rc, cc))\n",
    "\n",
    "\n",
    "fig, ax = plt.subplots(nrows=1, ncols=2, figsize=(10, 8))\n",
    "ax1, ax2 = ax\n",
    "ax1.set_axis_off()\n",
    "ax2.set_axis_off()\n",
    "ax1.imshow(y_label)\n",
    "ax2.imshow(labeled)\n",
    "\n",
    "for i, c in enumerate(act_centers):\n",
    "    ax1.annotate(str(i), xy=c[::-1])\n",
    "\n",
    "for i, c in enumerate(predicted_centers):\n",
    "    ax2.annotate(str(i), xy=c[::-1])\n",
    "\n",
    "ax1.set_title('True Masks')\n",
    "ax2.set_title('Predicted Masks')\n",
    "fig.tight_layout()"
   ]
  },
  {
   "cell_type": "code",
   "execution_count": 21,
   "metadata": {},
   "outputs": [
    {
     "data": {
      "text/plain": [
       "(17, 512, 512)"
      ]
     },
     "execution_count": 21,
     "metadata": {},
     "output_type": "execute_result"
    }
   ],
   "source": [
    "predicted_masks.shape"
   ]
  },
  {
   "cell_type": "code",
   "execution_count": 22,
   "metadata": {},
   "outputs": [
    {
     "data": {
      "text/plain": [
       "(22, 512, 512)"
      ]
     },
     "execution_count": 22,
     "metadata": {},
     "output_type": "execute_result"
    }
   ],
   "source": [
    "act_masks.shape"
   ]
  },
  {
   "cell_type": "code",
   "execution_count": 23,
   "metadata": {
    "collapsed": true
   },
   "outputs": [],
   "source": [
    "ious = np.zeros((22, 17))"
   ]
  },
  {
   "cell_type": "code",
   "execution_count": 24,
   "metadata": {
    "collapsed": true
   },
   "outputs": [],
   "source": [
    "for ai in range(22):\n",
    "    for pi in range(17):\n",
    "        amask = act_masks[ai].ravel()\n",
    "        pmask = predicted_masks[pi].ravel()\n",
    "        intersection = np.dot(amask, pmask)\n",
    "        union = amask.sum() + pmask.sum() - intersection\n",
    "        ious[ai, pi] = intersection / union"
   ]
  },
  {
   "cell_type": "code",
   "execution_count": 25,
   "metadata": {
    "collapsed": true
   },
   "outputs": [],
   "source": [
    "vector_intersection = vector_union = np.zeros((22, 17))"
   ]
  },
  {
   "cell_type": "code",
   "execution_count": 26,
   "metadata": {
    "collapsed": true
   },
   "outputs": [],
   "source": [
    "ORGSIZE = x.shape[0] * x.shape[1]"
   ]
  },
  {
   "cell_type": "code",
   "execution_count": 27,
   "metadata": {},
   "outputs": [
    {
     "data": {
      "text/plain": [
       "(17, 512, 512)"
      ]
     },
     "execution_count": 27,
     "metadata": {},
     "output_type": "execute_result"
    }
   ],
   "source": [
    "predicted_masks.shape"
   ]
  },
  {
   "cell_type": "code",
   "execution_count": 28,
   "metadata": {},
   "outputs": [
    {
     "data": {
      "text/plain": [
       "(22, 512, 512)"
      ]
     },
     "execution_count": 28,
     "metadata": {},
     "output_type": "execute_result"
    }
   ],
   "source": [
    "act_masks.shape"
   ]
  },
  {
   "cell_type": "code",
   "execution_count": 29,
   "metadata": {
    "collapsed": true
   },
   "outputs": [],
   "source": [
    "vector_intersection = np.dot(act_masks.reshape(22, ORGSIZE), predicted_masks.reshape(17, ORGSIZE).T)"
   ]
  },
  {
   "cell_type": "code",
   "execution_count": 30,
   "metadata": {
    "collapsed": true
   },
   "outputs": [],
   "source": [
    "vector_union = act_masks.reshape(22, ORGSIZE).sum(1, keepdims=True) + \\\n",
    "               predicted_masks.reshape(17, ORGSIZE).T.sum(0, keepdims=True) - \\\n",
    "               vector_intersection"
   ]
  },
  {
   "cell_type": "code",
   "execution_count": 31,
   "metadata": {
    "collapsed": true
   },
   "outputs": [],
   "source": [
    "vec_iou = vector_intersection / vector_union"
   ]
  },
  {
   "cell_type": "code",
   "execution_count": 32,
   "metadata": {},
   "outputs": [
    {
     "data": {
      "text/plain": [
       "True"
      ]
     },
     "execution_count": 32,
     "metadata": {},
     "output_type": "execute_result"
    }
   ],
   "source": [
    "np.allclose(vec_iou, ious)"
   ]
  },
  {
   "cell_type": "code",
   "execution_count": 33,
   "metadata": {
    "collapsed": true
   },
   "outputs": [],
   "source": [
    "thresholded_iou = vec_iou > THRESHOLDS"
   ]
  },
  {
   "cell_type": "code",
   "execution_count": 34,
   "metadata": {},
   "outputs": [
    {
     "data": {
      "text/plain": [
       "(10, 22, 17)"
      ]
     },
     "execution_count": 34,
     "metadata": {},
     "output_type": "execute_result"
    }
   ],
   "source": [
    "thresholded_iou.shape"
   ]
  },
  {
   "cell_type": "code",
   "execution_count": 35,
   "metadata": {
    "collapsed": true
   },
   "outputs": [],
   "source": [
    "THRESHOLDS = THRESHOLDS.reshape(10, 1, 1)"
   ]
  },
  {
   "cell_type": "markdown",
   "metadata": {},
   "source": [
    "# Mean Precision\n",
    "$$ \\cfrac{1}{|\\theta|}\\sum_{k \\in \\theta}\\cfrac{t_{p}(k)}{t_{p}(k) + f_{p}(k) + f_{n}(k)}$$\n",
    "\n",
    "Where \n",
    "\n",
    "* $ \\theta $ is set of thresholds,\n",
    "* $t_{p}(k)$ is the number of true positives at threshold $k$ - the number of predicted objects matching a ground truth object,\n",
    "* $f_{p}(k)$ is the number of false positives at threshold $k$ - the number of predicted objects matching no ground truth objects,\n",
    "* $f_{n}(k)$ is the number of false negatives at threshold $k$ - the number of ground truth objects matching no prediction,"
   ]
  },
  {
   "cell_type": "code",
   "execution_count": 36,
   "metadata": {
    "collapsed": true
   },
   "outputs": [],
   "source": [
    "tp = (thresholded_iou.sum(1) > 0).sum(1)"
   ]
  },
  {
   "cell_type": "code",
   "execution_count": 37,
   "metadata": {
    "collapsed": true
   },
   "outputs": [],
   "source": [
    "fp = (thresholded_iou.sum(1) == 0).sum(1)"
   ]
  },
  {
   "cell_type": "code",
   "execution_count": 38,
   "metadata": {
    "collapsed": true
   },
   "outputs": [],
   "source": [
    "fn = (thresholded_iou.sum(2) == 0).sum(1) "
   ]
  },
  {
   "cell_type": "code",
   "execution_count": 39,
   "metadata": {
    "collapsed": true
   },
   "outputs": [],
   "source": [
    "MAP = np.mean(tp / (tp + fp + fn))"
   ]
  },
  {
   "cell_type": "code",
   "execution_count": 40,
   "metadata": {},
   "outputs": [
    {
     "data": {
      "text/plain": [
       "0.6380311264822135"
      ]
     },
     "execution_count": 40,
     "metadata": {},
     "output_type": "execute_result"
    }
   ],
   "source": [
    "MAP"
   ]
  },
  {
   "cell_type": "code",
   "execution_count": 41,
   "metadata": {},
   "outputs": [
    {
     "data": {
      "text/plain": [
       "0.6380311264822135"
      ]
     },
     "execution_count": 41,
     "metadata": {},
     "output_type": "execute_result"
    }
   ],
   "source": [
    "evaluate_image(act_masks, predicted_masks)"
   ]
  },
  {
   "cell_type": "markdown",
   "metadata": {
    "collapsed": true
   },
   "source": [
    "# The model\n",
    "![](images/unet.png)"
   ]
  },
  {
   "cell_type": "markdown",
   "metadata": {},
   "source": [
    "# Weighing the Cross Entropy Loss\n",
    "The output layer produces a volume of size $height \\times width \\times K$, where $K$ is the number of classes. In this case, $K = 2$\n",
    "Thus, the softmax activation for each channel (channel here corresponds to target class, not color channels) $k \\in [1, K]$ is:\n",
    "\n",
    "$$ p_{k}(\\mathbf{x}) = \\cfrac{exp(a_{k}(\\mathbf{x}))}{\\sum_{k'=1}^{K}exp(a_{k'}(\\mathbf{x}))}$$,\n",
    "\n",
    "where $a(\\mathbf{x})$ is the unactivated output of the last layer.\n",
    "Then, the cross entropy loss is,\n",
    "\n",
    "$$E = \\sum w(\\mathbf{x})log(p_{l(\\mathbf{x)}}(\\mathbf{x}))$$\n",
    "\n",
    "where $l(\\mathbf{x})$ is the true label of each pixel and $w(\\mathbf{x})$ are pixelwise weights to prioritize certain pixels over others [1].\n",
    "\n",
    "$w$ is calculated as:\n",
    "\n",
    "$$ w(\\mathbf{x}) = w_{c}(\\mathbf{x}) + w_{0} \\times exp \\Biggl( -\\frac{(d_{1}(\\mathbf{x}) + d_{2}(\\mathbf{x}))^2}{2\\sigma^2} \\Biggr)$$\n",
    "\n",
    "where\n",
    "* $w_{c}$ is the weight map to balance pixel classes.\n",
    "* $d_{1}$ is the distance to the border of the nearest cell,\n",
    "* $d_{2}$ is the distance to the border of the second nearest cell."
   ]
  },
  {
   "cell_type": "code",
   "execution_count": 42,
   "metadata": {},
   "outputs": [],
   "source": [
    "w0 = 10\n",
    "sigma = 5\n",
    "\n",
    "def process_mask(masks):\n",
    "    nrows, ncols = masks.shape[1:]\n",
    "    masks = (masks > 0).astype(int)\n",
    "    distMap = np.zeros((nrows * ncols, masks.shape[0]))\n",
    "    X1, Y1 = np.meshgrid(np.arange(nrows), np.arange(ncols))\n",
    "    X1, Y1 = np.c_[X1.ravel(), Y1.ravel()].T\n",
    "    for i, mask in enumerate(masks):\n",
    "        bounds = find_boundaries(mask, mode='inner')\n",
    "        X2, Y2 = np.nonzero(bounds)\n",
    "        xSum = (X2.reshape(-1, 1) - X1.reshape(1, -1)) ** 2\n",
    "        ySum = (Y2.reshape(-1, 1) - Y1.reshape(1, -1)) ** 2\n",
    "        distMap[:, i] = np.sqrt(xSum + ySum).min(axis=0)\n",
    "    ix = np.arange(distMap.shape[0])\n",
    "    if distMap.shape[1] == 1:\n",
    "        d1 = distMap.ravel()\n",
    "        border_loss_map = w0 * np.exp((-1 * (d1) ** 2) / (2 * (sigma ** 2)))\n",
    "    else:\n",
    "        if distMap.shape[1] == 2:\n",
    "            d1_ix, d2_ix = np.argpartition(distMap, 1, axis=1)[:, :2].T\n",
    "        else:\n",
    "            d1_ix, d2_ix = np.argpartition(distMap, 2, axis=1)[:, :2].T\n",
    "        d1 = distMap[ix, d1_ix]\n",
    "        d2 = distMap[ix, d2_ix]\n",
    "        border_loss_map = w0 * np.exp((-1 * (d1 + d2) ** 2) / (2 * (sigma ** 2)))\n",
    "    xBLoss = np.zeros((nrows, ncols))\n",
    "    xBLoss[X1, Y1] = border_loss_map\n",
    "    # class weight map\n",
    "    loss = np.zeros((nrows, ncols))\n",
    "    w_1 = 1 - masks.sum() / loss.size\n",
    "    w_0 = 1 - w_1\n",
    "    loss[masks.sum(0) == 1] = w_1\n",
    "    loss[masks.sum(0) == 0] = w_0\n",
    "    ZZ = xBLoss + loss\n",
    "    # ZZ = resize(ZZ, (512, 512), preserve_range=True)\n",
    "    return ZZ"
   ]
  },
  {
   "cell_type": "code",
   "execution_count": 43,
   "metadata": {},
   "outputs": [
    {
     "data": {
      "text/plain": [
       "<matplotlib.colorbar.Colorbar at 0x112005a58>"
      ]
     },
     "execution_count": 43,
     "metadata": {},
     "output_type": "execute_result"
    },
    {
     "data": {
      "image/png": "[encoded data removed]",
      "text/plain": [
       "<matplotlib.figure.Figure at 0x1122d0978>"
      ]
     },
     "metadata": {},
     "output_type": "display_data"
    }
   ],
   "source": [
    "wmask = process_mask(act_masks)\n",
    "plt.imshow(wmask)\n",
    "plt.colorbar()"
   ]
  },
  {
   "cell_type": "markdown",
   "metadata": {},
   "source": [
    "# References\n",
    "<ol>\n",
    "<li>\n",
    "Olaf Ronneberger, Philipp Fischer: “U-Net: Convolutional Networks for Biomedical Image Segmentation”, 2015; <a href='http://arxiv.org/abs/1505.04597'>arXiv:1505.04597</a>.\n",
    "</li>\n",
    "</ol>"
   ]
  }
 ],
 "metadata": {
  "kernelspec": {
   "display_name": "Python 3",
   "language": "python",
   "name": "python3"
  },
  "language_info": {
   "codemirror_mode": {
    "name": "ipython",
    "version": 3
   },
   "file_extension": ".py",
   "mimetype": "text/x-python",
   "name": "python",
   "nbconvert_exporter": "python",
   "pygments_lexer": "ipython3",
   "version": "3.6.2"
  }
 },
 "nbformat": 4,
 "nbformat_minor": 2
}
