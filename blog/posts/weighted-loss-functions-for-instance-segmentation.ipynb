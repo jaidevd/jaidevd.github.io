{
 "cells": [
  {
   "cell_type": "markdown",
   "metadata": {},
   "source": [
    "This post is a follow up to my talk, _Practical Image Classification & Object Detection_ at PyData Delhi 2018. You can watch the talk here,\n",
    "\n",
    "\n",
    "<iframe width=\"560\" height=\"315\" src=\"https://www.youtube.com/embed/mCQYXHJKZW8?start=5351\" frameborder=\"0\" allow=\"autoplay; encrypted-media\" allowfullscreen></iframe>\n",
    "\n",
    "<br>\n",
    "and see the slides here:\n",
    "\n",
    "\n",
    "<script async class=\"speakerdeck-embed\" data-id=\"43741543531849cd83452ef9a55aa9fe\" data-ratio=\"1.77777777777778\" src=\"//speakerdeck.com/assets/embed.js\"></script>\n",
    "\n",
    "<br>\n",
    "I spoke at length about the different kinds of problems in computer vision and how they are interpreted in deep learning architectures. I spent a fair bit of time on instance and semantic segmentation (for an introduction to these problems, watch [Justin Johnson](https://cs.stanford.edu/people/jcjohns/)'s lecture from the Stanford CS231 course [here](https://www.youtube.com/watch?v=nDPWywWRIRo)). In short, semantic segmentation deals with designating each pixel of an image as belonging to a class, and instance segmentation deals with identifying which instance of a class each pixel belongs to. The following images show an example of semantic versus instance segmentation.\n",
    "\n",
    "<img src=\"/images/segmentation.png\"></img>\n",
    "<br>\n",
    "At the outset, a semantic segmentation output can be converted to an instance segmentation output by detecting boundaries and labeling each enclosing object individually. Semantic segmentation is essentially a classification problem that is applied at each pixel of and image, and can be evaluated with any suitable classification metric. A useful metric to evaluate how capable a model is of learning the boundaries that are required for instance segmentation is called mAP of IoU - mean average precision of the intersection over union. This metric is designed specifically to evaluate instance segmentation performance. Here's a brief explanation of how it works."
   ]
  },
  {
   "cell_type": "markdown",
   "metadata": {},
   "source": [
    "Imagine that we're solving a binary semantic segmentation problem, where the task is to simply predict if a pixel belongs to the background or foreground. We first create, as the ground truth, an image with two circular objects in it. Note that the circles, at the point where they are closest to each other, are separated by very few pixels."
   ]
  },
  {
   "cell_type": "code",
   "execution_count": 1,
   "metadata": {
    "slideshow": {
     "slide_type": "skip"
    }
   },
   "outputs": [
    {
     "data": {
      "image/png": "[encoded data removed]",
      "text/plain": [
       "<matplotlib.figure.Figure at 0x10d2b1fd0>"
      ]
     },
     "metadata": {},
     "output_type": "display_data"
    }
   ],
   "source": [
    "import numpy as np\n",
    "import matplotlib.pyplot as plt\n",
    "from skimage import draw\n",
    "%matplotlib inline\n",
    "\n",
    "x = np.zeros((256, 256))\n",
    "cy, cx = 80, 80\n",
    "radius = 64\n",
    "cy2 = cx2 = (np.sqrt(cy **2 + cx **2) + 2 * radius) * np.cos(np.pi / 4) + 1\n",
    "o1r, o1c = draw.circle(cy, cx, radius)\n",
    "o2r, o2c = draw.circle(cy2, cx2, radius)\n",
    "x[o1r, o1c] = 1\n",
    "x[o2r, o2c] = 1\n",
    "plt.figure(figsize=(5, 5))\n",
    "plt.imshow(x)\n",
    "plt.axis('off')\n",
    "_ = plt.title('Ground Truth', fontsize=20)"
   ]
  },
  {
   "cell_type": "markdown",
   "metadata": {},
   "source": [
    "Now imagine that we have a model that is good at semantic segmentation, but not so much at instance segmentation. So it (somewhat) wrongly predicts a labeled output that is _almost_ identical to the ground truth, except it fills the gap that separates the two circles. After all, the circles are _almost_ touching anyway."
   ]
  },
  {
   "cell_type": "code",
   "execution_count": 2,
   "metadata": {
    "slideshow": {
     "slide_type": "skip"
    }
   },
   "outputs": [
    {
     "data": {
      "image/png": "[encoded data removed]",
      "text/plain": [
       "<matplotlib.figure.Figure at 0x113627e10>"
      ]
     },
     "metadata": {},
     "output_type": "display_data"
    }
   ],
   "source": [
    "from skimage.morphology import binary_dilation\n",
    "\n",
    "prediction = binary_dilation(x)\n",
    "plt.figure(figsize=(5, 5))\n",
    "plt.imshow(prediction)\n",
    "plt.axis('off')\n",
    "_ = plt.title('Prediction', fontsize=20)"
   ]
  },
  {
   "cell_type": "markdown",
   "metadata": {},
   "source": [
    "Since this a binary classification problem, and we can tell that there is clear class imbalance, let's use the [F1 score](http://scikit-learn.org/stable/modules/generated/sklearn.metrics.f1_score.html) to evaluate our prediction."
   ]
  },
  {
   "cell_type": "code",
   "execution_count": 3,
   "metadata": {},
   "outputs": [
    {
     "name": "stdout",
     "output_type": "stream",
     "text": [
      "0.9860563110515227\n"
     ]
    }
   ],
   "source": [
    "from sklearn.metrics import f1_score\n",
    "\n",
    "print(f1_score(x.ravel(), prediction.ravel()))"
   ]
  },
  {
   "cell_type": "markdown",
   "metadata": {
    "collapsed": true
   },
   "source": [
    "That's not bad at all. There are a very small number of pixels where the model is mistaken - the ones in the area where the circles are not supposed to be touching. Let's take a look at how well the other metric - mAP of IoU - does with this prediction. Here are a couple of functions that implement the mAP of IoU computation. Followed by a detailed explanation of the metric."
   ]
  },
  {
   "cell_type": "code",
   "execution_count": 4,
   "metadata": {
    "collapsed": true
   },
   "outputs": [],
   "source": [
    "def iou(masks_true, masks_pred):\n",
    "    \"\"\"\n",
    "    Get the IOU between each predicted mask and each true mask.\n",
    "\n",
    "    Parameters\n",
    "    ----------\n",
    "\n",
    "    masks_true : array-like\n",
    "        A 3D array of shape (n_true_masks, image_height, image_width)\n",
    "    masks_pred : array-like\n",
    "        A 3D array of shape (n_predicted_masks, image_height, image_width)\n",
    "\n",
    "    Returns\n",
    "    -------\n",
    "    array-like\n",
    "        A 2D array of shape (n_true_masks, n_predicted_masks), where\n",
    "        the element at position (i, j) denotes the IoU between the `i`th true\n",
    "        mask and the `j`th predicted mask.\n",
    "\n",
    "    \"\"\"\n",
    "    if masks_true.shape[1:] != masks_pred.shape[1:]:\n",
    "        raise ValueError('Predicted masks have wrong shape!')\n",
    "    n_true_masks, height, width = masks_true.shape\n",
    "    n_pred_masks = masks_pred.shape[0]\n",
    "    m_true = masks_true.copy().reshape(n_true_masks, height * width).T\n",
    "    m_pred = masks_pred.copy().reshape(n_pred_masks, height * width)\n",
    "    numerator = np.dot(m_pred, m_true)\n",
    "    denominator = m_pred.sum(1).reshape(-1, 1) + m_true.sum(0).reshape(1, -1)\n",
    "    return numerator / (denominator - numerator)\n",
    "\n",
    "def evaluate_image(masks_true, masks_pred, thresholds):\n",
    "    \"\"\"\n",
    "    Get the average precision for the true and predicted masks of a single image,\n",
    "    averaged over a set of thresholds\n",
    "\n",
    "    Parameters\n",
    "    ----------\n",
    "    masks_true : array-like\n",
    "        A 3D array of shape (n_true_masks, image_height, image_width)\n",
    "    masks_pred : array-like\n",
    "        A 3D array of shape (n_predicted_masks, image_height, image_width)\n",
    "\n",
    "    Returns\n",
    "    -------\n",
    "    float\n",
    "        The mean average precision of intersection over union between\n",
    "        all pairs of true and predicted region masks.\n",
    "\n",
    "    \"\"\"\n",
    "    int_o_un = iou(masks_true, masks_pred)\n",
    "    benched = int_o_un > thresholds\n",
    "    tp = benched.sum(-1).sum(-1)  # noqa\n",
    "    fp = (benched.sum(2) == 0).sum(1)\n",
    "    fn = (benched.sum(1) == 0).sum(1)\n",
    "    return np.mean(tp / (tp + fp + fn))"
   ]
  },
  {
   "cell_type": "markdown",
   "metadata": {},
   "source": [
    "Note that the IoU between any pair of binary masks can be any real number in $[0, 1]$. Therefore, it is necessary to apply a threshold the IoUs between all pairs of predicted and true masks, to get a meaningful evaluation. The convention used by many Kaggle competitions is to have a set of thresholds from 0.5 to 0.95 in steps of 0.05. In the following cell, we create this set of thresholds and use them to evaluate the metric."
   ]
  },
  {
   "cell_type": "code",
   "execution_count": 5,
   "metadata": {},
   "outputs": [
    {
     "name": "stdout",
     "output_type": "stream",
     "text": [
      "0.0\n"
     ]
    }
   ],
   "source": [
    "# make the thresholds\n",
    "THRESHOLDS = np.arange(0.5, 1, 0.05).reshape(10, 1, 1)\n",
    "\n",
    "# segment the ground truth image into constituent masks\n",
    "bg = np.zeros(x.shape)\n",
    "true_mask_1 = bg.copy()\n",
    "true_mask_1[o1r, o1c] = 1\n",
    "true_mask_2 = bg.copy()\n",
    "true_mask_2[o2r, o2c] = 1\n",
    "y_true = np.array([true_mask_1, true_mask_2])\n",
    "\n",
    "# reshape the prediction matrix to fit the format required by the `evaluate_image` function\n",
    "y_pred = prediction.reshape((1,) + prediction.shape)\n",
    "\n",
    "map_iou = evaluate_image(y_true, y_pred, THRESHOLDS)\n",
    "print(map_iou)"
   ]
  },
  {
   "cell_type": "markdown",
   "metadata": {},
   "source": [
    "<img src=\"/images/frustrated_jackie_chan.png\"></img>\n",
    "\n",
    "That was by design. On careful inspection, it is apparent that both of the _true_ masks account for less than half the area occupied by the _predicted_ mask. Thus, the _predicted_ mask has in IoU of less than 0.5 with each _true_ mask. Since we start thresholding the IoU values at 0.5, the prediction did not register a true positive with either of the true masks - ultimately leading to a score of zero.\n",
    "\n",
    "Let's try another hacked prediction, where we create two circular objects again, but this time they share the same centers as their ground truth counterparts, and have a radius that is less than the true radius by six units. Then, let's evaluate both the metrics again on these new predictions."
   ]
  },
  {
   "cell_type": "code",
   "execution_count": 6,
   "metadata": {},
   "outputs": [
    {
     "data": {
      "image/png": "[encoded data removed]",
      "text/plain": [
       "<matplotlib.figure.Figure at 0x118b258d0>"
      ]
     },
     "metadata": {},
     "output_type": "display_data"
    }
   ],
   "source": [
    "xnew = np.zeros((256, 256))\n",
    "cy, cx = 80, 80\n",
    "radius_new = 58\n",
    "cy2 = cx2 = (np.sqrt(cy **2 + cx **2) + 2 * 64) * np.cos(np.pi / 4) + 1\n",
    "o1r, o1c = draw.circle(cy, cx, radius_new)\n",
    "o2r, o2c = draw.circle(cy2, cx2, radius_new)\n",
    "xnew[o1r, o1c] = 1\n",
    "xnew[o2r, o2c] = 1\n",
    "plt.figure(figsize=(5, 5))\n",
    "plt.imshow(xnew, cmap=plt.cm.gray)\n",
    "plt.axis('off')\n",
    "_ = plt.title('Another Prediction', fontsize=20)"
   ]
  },
  {
   "cell_type": "code",
   "execution_count": 7,
   "metadata": {},
   "outputs": [
    {
     "name": "stdout",
     "output_type": "stream",
     "text": [
      "F1 Score: 0.9014126584439418\n",
      "MAP of IoU: 0.7\n"
     ]
    }
   ],
   "source": [
    "# segment the predicted image into constituent masks\n",
    "bg = np.zeros(xnew.shape)\n",
    "predicted_mask_1 = bg.copy()\n",
    "predicted_mask_1[o1r, o1c] = 1\n",
    "predicted_mask_2 = bg.copy()\n",
    "predicted_mask_2[o2r, o2c] = 1\n",
    "y_pred = np.array([predicted_mask_1, predicted_mask_2])\n",
    "\n",
    "fscore = f1_score(y_true.sum(0).ravel(), y_pred.sum(0).ravel())\n",
    "print(\"F1 Score: {}\".format(fscore))\n",
    "\n",
    "map_iou = evaluate_image(y_true, y_pred, THRESHOLDS)\n",
    "print(\"MAP of IoU: {}\".format(map_iou))"
   ]
  },
  {
   "cell_type": "markdown",
   "metadata": {
    "collapsed": true
   },
   "source": [
    "The pixelwise accuracy (the F1 score) has taken a hit, since the prediction has lost two circular rings surrounding the true masks, but is still not bad. However, the IoU has shot up disproportionately! This shows that the MAP of IoU penalizes incorrect region separation a lot more than it rewards pixelwise correctness."
   ]
  },
  {
   "cell_type": "markdown",
   "metadata": {},
   "source": [
    "As a more general example, suppose we have $K$ true masks, and $L$ predicted masks. Then, in order to calculate the MAP of IoU, we construct a matrix $I \\in \\mathbb R^{K \\times L}$ as follows:\n",
    "<br>\n",
    "\n",
    "|$p_{1}$|$p_{2}$|$p_{3}$|$…$|$p_{l}$\n",
    ":-----:|:-----:|:-----:|:-----:|:-----:|:-----:\n",
    "$a_{1}$|$O_{11}$|$O_{12}$|$O_{13}$|$…$|$O_{1L}$\n",
    "$a_{2}$|$O_{21}$|$O_{22}$|$O_{23}$|$…$|$O_{2L}$\n",
    "$a_{3}$|$O_{31}$|$O_{32}$|$O_{33}$|$…$|$O_{3L}$\n",
    "…|…|…|…|…|…\n",
    "$a_K$|$O_{K1}$|$O_{K2}$|$O_{K3}$|$…$|$O_{Kl}$\n",
    "<br>\n",
    "where $O_{k, l}$ is the IoU of the $k$th true mask and the $l$th predicted mask. This matrix is whatt the `iou` function written above generates. Given our set of thresholds, $\\Theta = \\{0.5, 0.55, 0.6, ... 0.9, 0.95\\}$, we can filter $I$ with all of them one by one. At each threshold $\\theta_{i} \\in \\Theta$, we calculate a boolean matrix $I_{\\theta_{i}} = I > \\theta_{i}$. Using this matrix, we compute the following values:\n",
    "\n",
    "* $t^{+}(\\theta_{i})$: The number of true positives - the number of predicted masks that found a match with a true mask. This is equal to the number of rows in $I_{\\theta_{i}}$ that have at least one positive value.\n",
    "* $f^{+}(\\theta_{i})$: The number of false positives - the number of predicted masks that found no match with a true mask. This is equal to the number of rows in $I_{\\theta_{i}}$ that have no positive value.\n",
    "* $f^{-}(\\theta_{i})$: The number of false negatives - the number of true masks that found no predicted match. This is equal to the number of columns in $I_{\\theta_{i}}$ that have no positive value.\n",
    "\n",
    "<br>\n",
    "With these values computed for all thresholds $\\theta_{i} \\in \\Theta$, we finally calculate the MAP of IoU as follows:\n",
    "\n",
    "<br>\n",
    "$$ \\cfrac{1}{|\\Theta|}\\sum_{\\theta_{i} \\in \\Theta}\\cfrac{t^{+}(\\theta_{i})}{t^{+}(\\theta_{i}) + f^{+}(\\theta_{i}) + f^{-}(\\theta_{i})}$$\n",
    "<br>\n",
    "This measure is what the `evaluate_image` function written above calculates.\n",
    "\n",
    "A popular neural network architecture to perform semantic / instance segmentation is the UNet:\n",
    "<img src=\"/images/unet.png\"></img>\n",
    "<br>\n",
    "It puts together the best properties of a network that are useful for pixel segmentation:\n",
    "1. It is fully convolutional\n",
    "2. It doesn't suffer because of the size of the image\n",
    "3. It incorporates learnable upsampling\n",
    "\n",
    "<br>\n",
    "A Keras implementation of a typical UNet is provided [here](https://github.com/jaidevd/jaidevd.github.io/blob/source/blog/posts/code/unet.py). This model can be compiled and trained as usual, with a suitable optimizer and loss. For semantic segmentation, the obvious choice is the categorical crossentropy loss. For instance segmentation, however, as we have demonstrated, pixelwise accuracy is not enough, and the model must learn the separation between nearby objects. Normally such separation can be done with [morphological operations](https://en.wikipedia.org/wiki/Mathematical_morphology) on the images, but these operations cannot easily be made a part of the learning of the model. So the alternative is to force the network to learn region separations in an entirely data-driven manner. The [UNet paper](https://arxiv.org/abs/1505.04597) provides an interesting way of doing this - introducing pre-computed weight maps into the loss function which penalizes the loss near the boundaries of regions more than elsewhere. These weight maps are calculated as follows:\n",
    "\n",
    "<br>\n",
    "$$ w(\\mathbf{x}) = w_{c}(\\mathbf{x}) + w_{0} \\times exp \\Biggl( -\\frac{(d_{1}(\\mathbf{x}) + d_{2}(\\mathbf{x}))^2}{2\\sigma^2} \\Biggr)$$\n",
    "<br>\n",
    "Here, $w_{c}$, $d_{1}$ and $d_{2}$ are all functions over a two dimensional image such that:\n",
    "* $w_{c}: \\mathbb R^{m\\times n} \\rightarrow \\mathbb R^{m\\times n}$ is the class probability map.\n",
    "* $d_{1}: \\mathbb R^{m\\times n} \\rightarrow \\mathbb R^{m\\times n}$ is the distance to the border of the nearest cell,\n",
    "* $d_{2}: \\mathbb R^{m\\times n} \\rightarrow \\mathbb R^{m\\times n}$ is the distance to the border of the second nearest cell.\n",
    "\n",
    "<br>\n",
    "A vectorized implementation of $w$ is provided below in the `make_weight_map` function."
   ]
  },
  {
   "cell_type": "code",
   "execution_count": 8,
   "metadata": {
    "collapsed": true
   },
   "outputs": [],
   "source": [
    "from skimage.segmentation import find_boundaries\n",
    "\n",
    "w0 = 10\n",
    "sigma = 5\n",
    "\n",
    "def make_weight_map(masks):\n",
    "    \"\"\"\n",
    "    Generate the weight maps as specified in the UNet paper\n",
    "    for a set of binary masks.\n",
    "    \n",
    "    Parameters\n",
    "    ----------\n",
    "    masks: array-like\n",
    "        A 3D array of shape (n_masks, image_height, image_width),\n",
    "        where each slice of the matrix along the 0th axis represents one binary mask.\n",
    "\n",
    "    Returns\n",
    "    -------\n",
    "    array-like\n",
    "        A 2D array of shape (image_height, image_width)\n",
    "    \n",
    "    \"\"\"\n",
    "    nrows, ncols = masks.shape[1:]\n",
    "    masks = (masks > 0).astype(int)\n",
    "    distMap = np.zeros((nrows * ncols, masks.shape[0]))\n",
    "    X1, Y1 = np.meshgrid(np.arange(nrows), np.arange(ncols))\n",
    "    X1, Y1 = np.c_[X1.ravel(), Y1.ravel()].T\n",
    "    for i, mask in enumerate(masks):\n",
    "        # find the boundary of each mask,\n",
    "        # compute the distance of each pixel from this boundary\n",
    "        bounds = find_boundaries(mask, mode='inner')\n",
    "        X2, Y2 = np.nonzero(bounds)\n",
    "        xSum = (X2.reshape(-1, 1) - X1.reshape(1, -1)) ** 2\n",
    "        ySum = (Y2.reshape(-1, 1) - Y1.reshape(1, -1)) ** 2\n",
    "        distMap[:, i] = np.sqrt(xSum + ySum).min(axis=0)\n",
    "    ix = np.arange(distMap.shape[0])\n",
    "    if distMap.shape[1] == 1:\n",
    "        d1 = distMap.ravel()\n",
    "        border_loss_map = w0 * np.exp((-1 * (d1) ** 2) / (2 * (sigma ** 2)))\n",
    "    else:\n",
    "        if distMap.shape[1] == 2:\n",
    "            d1_ix, d2_ix = np.argpartition(distMap, 1, axis=1)[:, :2].T\n",
    "        else:\n",
    "            d1_ix, d2_ix = np.argpartition(distMap, 2, axis=1)[:, :2].T\n",
    "        d1 = distMap[ix, d1_ix]\n",
    "        d2 = distMap[ix, d2_ix]\n",
    "        border_loss_map = w0 * np.exp((-1 * (d1 + d2) ** 2) / (2 * (sigma ** 2)))\n",
    "    xBLoss = np.zeros((nrows, ncols))\n",
    "    xBLoss[X1, Y1] = border_loss_map\n",
    "    # class weight map\n",
    "    loss = np.zeros((nrows, ncols))\n",
    "    w_1 = 1 - masks.sum() / loss.size\n",
    "    w_0 = 1 - w_1\n",
    "    loss[masks.sum(0) == 1] = w_1\n",
    "    loss[masks.sum(0) == 0] = w_0\n",
    "    ZZ = xBLoss + loss\n",
    "    return ZZ"
   ]
  },
  {
   "cell_type": "markdown",
   "metadata": {},
   "source": [
    "Here is an example of how the weight map affects a set of masks. We generate three circular regions such that two of them are much closer to each other than the third one. The weight map functions magnifies the values in the region that is close to boundaries more than other values."
   ]
  },
  {
   "cell_type": "code",
   "execution_count": 9,
   "metadata": {},
   "outputs": [
    {
     "data": {
      "image/png": "[encoded data removed]",
      "text/plain": [
       "<matplotlib.figure.Figure at 0x11871eeb8>"
      ]
     },
     "metadata": {},
     "output_type": "display_data"
    }
   ],
   "source": [
    "params = [(20, 16, 10), (44, 16, 10), (47, 47, 10)]\n",
    "masks = np.zeros((3, 64, 64))\n",
    "for i, (cx, cy, radius) in enumerate(params):\n",
    "    rr, cc = draw.circle(cx, cy, radius)\n",
    "    masks[i, rr, cc] = 1\n",
    "fig, (ax1, ax2) = plt.subplots(ncols=2, figsize=(12, 5))\n",
    "ax1.imshow(masks.sum(0))\n",
    "ax1.set_axis_off()\n",
    "ax1.set_title('True Masks', fontsize=15)\n",
    "\n",
    "weights = make_weight_map(masks)\n",
    "pos = ax2.imshow(weights)\n",
    "ax2.set_axis_off()\n",
    "ax2.set_title('Weights', fontsize=15)\n",
    "_ = fig.colorbar(pos, ax=ax2)"
   ]
  },
  {
   "cell_type": "markdown",
   "metadata": {},
   "source": [
    "Application of these weight maps to the output of neural network and then finally computing the compunded loss is somewhat involved. A fully convolutional network like the UNet - since it has no dense layers at the end - needs 1 x 1 convolutions at the end to convert the convolutions from the previous layer to produce something on which categorical softmax can work. The output layer produces a volumne of size $h \\times w \\times K$, where $h$ and $w$ are the image height and width respectively and $K$ is the number of classes. Denoting the _unactivated_ output of the channel correspoding to the $k$th class as $a_{k}(\\mathbf{x})$, the softmax activation is computed as\n",
    "<br>\n",
    "\n",
    "$$ p_{k}(\\mathbf{x}) = \\cfrac{exp(a_{k}(\\mathbf{x}))}{\\sum_{k'=1}^{K}exp(a_{k'}(\\mathbf{x}))} $$\n",
    "<br>\n",
    "\n",
    "Then, a modified cross entropy loss is calculated as\n",
    "<br>\n",
    "$$E = \\sum w(\\mathbf{x})log(p_{l(\\mathbf{x)}}(\\mathbf{x}))$$\n",
    "<br>\n",
    "\n",
    "where $w(\\mathbf{x})$ is the weight map function and $l(\\mathbf{x})$ denotes the true label of each pixel, Thus, computing $E$ amounts to:\n",
    "\n",
    "1. computing the softmax activation\n",
    "2. using the true labels as a mask for this activation, (note how the function $l(\\mathbf{x})$ is used),\n",
    "3. summing the masked output along the dimension corresponding to the $K$ and taking it's log\n",
    "4. multiply the log output with the weight map and aggregate the result across pixels\n",
    "\n",
    "<br>\n",
    "When using Keras with a Tensorflow backend, the crossentropy loss, by default, is a [manual computation of cross entropy](https://github.com/keras-team/keras/blob/2.2.2/keras/backend/tensorflow_backend.py#L3181), which doesn't allow for weighing the loss explicitly. The manual computation is necessary because the corresponding Tensorflow [loss](https://www.tensorflow.org/api_docs/python/tf/losses/softmax_cross_entropy) expects logits, whereas Keras losses expect probabilities.\n",
    "\n",
    "Besides, it is clear that the loss we need isn't the usual categorical crossentropy. Notice that the weights have to be applied to the log of the activation _before_ the pixelwise sum is evaluated. My solution to this was to incorporate the weighing of the log of the activation into the Keras model itself, and leave only the aggregation to the loss function. Thus, the model ends up doing more than just generating the final set of softmax activations. It also takes the log of the activations and applies the weights to it. Therefore, the weight maps too become a part of the computational graph of the model - unlike in the case of conventional class weights, where it can be supplied at the time of loss calculation. So now the model takes three inputs - the images, their labels and their weight maps.\n",
    "\n",
    "Thanks to Keras' beautiful functional API, all of this amounts to adding a few non-trainable layers to the model and writing a custom loss function to mimic only the aggregation of the categorical crossentropy function.\n",
    "\n",
    "The entire script for the model is available [here](https://github.com/jaidevd/jaidevd.github.io/blob/source/blog/posts/code/weighted_loss_unet.py), but the essence of it is as follows:\n",
    "\n",
    "```python\n",
    "from keras.layers import Input, Conv2D, Lambda, multiply # etc\n",
    "# Start making the UNET model as usual\n",
    "\n",
    "image_input = Input(shape=(image_height, image_width, n_channels))\n",
    "conv1 = Conv2D(64, 3)(image_input)\n",
    "\n",
    "# add other layers\n",
    "\n",
    "# Final 1 x 1 trainable conv layer that does the softmax.\n",
    "softmax_op = Conv2D(n_classes, 1, activation='softmax')(previous_layer)\n",
    "\n",
    "# Add a few non trainable layers to mimic the computation of the crossentropy\n",
    "# loss, so that the actual loss function just has to peform the\n",
    "# aggregation.\n",
    "normalize_activation = Lambda(lambda x: x / tf.reduce_sum(x, len(x.get_shape()) - 1, True))(softmax_op)\n",
    "clip_activation = Lambda(lambda x: tf.clip_by_value(x, _epsilon, 1. - _epsilon))(normalize_activation)\n",
    "log_activation = Lambda(lambda x: K.log(x))(clip_activation)\n",
    "\n",
    "# Add a new input to serve as the source for the weight maps\n",
    "weight_map_ip = Input(shape=(image_height, image_width))\n",
    "weighted_softmax = multiply([log_activation, weight_map_ip])\n",
    "\n",
    "model = Model(inputs=[image_input, weight_map_ip], outputs=[weighted_softmax])\n",
    "```\n",
    "\n",
    "This model can now be compiled and trained as usual. Note that the three `Lambda` layers are identical to the operations in the [`keras.backend.tensorflow_backend.catgorical_crossentropy`](https://github.com/keras-team/keras/blob/2.2.2/keras/backend/tensorflow_backend.py#L3181). So essentially we have swallowed most of the functionality of the cross entropy loss into the model itself. I should re-emphasize that this had to be done because the weighted loss we wanted could not have been possible with the default loss function, since the scaling of the log of the activations (with the precomputed weights) has to be done _before_ the loss is aggregated.\n",
    "\n",
    "I discovered the UNet paper a few months ago during the [Data Science Bowl 2018](https://www.kaggle.com/c/data-science-bowl-2018) competition on Kaggle. I spent a better part of three weeks on implementing the weight maps and incorporating them into my UNet. And it paid off fairly well - I jumped 504 places on the public leaderboard. In hindsight, data augmentation would have had the same (or perhaps a better) effect, but that fact that I was able to all of this shows how beautifully Keras' (and indeed, Tensorflow's) functional API has been designed."
   ]
  },
  {
   "cell_type": "markdown",
   "metadata": {},
   "source": [
    "### References\n",
    "<ol>\n",
    "<li>\n",
    "Olaf Ronneberger, Philipp Fischer: “U-Net: Convolutional Networks for Biomedical Image Segmentation”, 2015; <a href='http://arxiv.org/abs/1505.04597'>arXiv:1505.04597</a>.\n",
    "</li>\n",
    "</ol>"
   ]
  }
 ],
 "metadata": {
  "celltoolbar": "Edit Metadata",
  "kernelspec": {
   "display_name": "Python 3",
   "language": "python",
   "name": "python3"
  },
  "language_info": {
   "codemirror_mode": {
    "name": "ipython",
    "version": 3
   },
   "file_extension": ".py",
   "mimetype": "text/x-python",
   "name": "python",
   "nbconvert_exporter": "python",
   "pygments_lexer": "ipython3",
   "version": "3.6.2"
  }
 },
 "nbformat": 4,
 "nbformat_minor": 2
}
