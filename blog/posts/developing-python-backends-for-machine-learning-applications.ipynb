{
 "cells": [
  {
   "cell_type": "markdown",
   "metadata": {
    "slideshow": {
     "slide_type": "slide"
    }
   },
   "source": [
    "<h1><center>Developing Python Backends for Machine Learning Applications</center></h1>\n",
    "<h2><center>by Jaidev Deshpande</center></h2>\n",
    "<h3><center>Data Scientist @ Cube26 Software Pvt Ltd</center></h3>\n",
    "\n",
    "<div style=\"text-align: center\">\n",
    "<div id=\"social\">\n",
    "<div id=\"social_twitter\">\n",
    "    <a href=\"http://twitter.com/jaidevd\"><img src=\"images/twitter-128.png\" width=\"32\" height=\"32\">\n",
    "    </a>\n",
    "</div>\n",
    "<div id=\"social_medium\">\n",
    "    <a href=\"http://medium.com/@jaidevd\"><img src=\"images/medium.ico\" width=\"32\" height=\"32\"></a>\n",
    "</div>\n",
    "<div id=\"social_github\">\n",
    "    <a href=\"http://github.com/jaidevd\"><img src=\"images/mark-github-128.png\" width=\"32\" height=\"32\"></a>\n",
    "</div>\n",
    "</div>\n",
    "</div>\n",
    "\n",
    "<div style=\"text-align: center\"><font size=\"4\"><strong>@jaidevd</strong></font></div>"
   ]
  },
  {
   "cell_type": "markdown",
   "metadata": {
    "slideshow": {
     "slide_type": "slide"
    }
   },
   "source": [
    "# From Peter Norvig's Q&A session on Quora:\n",
    "> I think that it will be important for machine learning experts and software engineers to come together to develop best practices for software development of machine learning systems. Currently we have a software testing regime where you define unit tests... We will need new testing processes that involve running experiments, analyzing the results... This is a great area for software engineers and machine learning people to work together to build something new and better."
   ]
  },
  {
   "cell_type": "markdown",
   "metadata": {
    "slideshow": {
     "slide_type": "slide"
    }
   },
   "source": [
    "<div style=\"text-align: center\">\n",
    "<img src=\"images/reos.png\">\n",
    "</div>"
   ]
  },
  {
   "cell_type": "markdown",
   "metadata": {
    "slideshow": {
     "slide_type": "slide"
    }
   },
   "source": [
    "# Example: How we started building ReosMessage\n",
    "\n",
    "<ul>\n",
    "    <li><h3>Classification of SMS into personal, notifications and spam</h3></li>\n",
    "    <li><h3>Get a dump of a table from postgres</h3></li>\n",
    "    <li><h3>Use simple Python scripts and some pandas magic to clean the data</h3></li>\n",
    "    <li><h3>Use regular expressions to label the data</h3></li>\n",
    "    <li><h3>Train sklearn estimators on the labeled data</h3></li>\n",
    "    <li><h3>Crowdsource the evaluation of the predictions</h3></li>\n",
    "    <li><h3>Dump the model coefficients to JSON</h3></li>\n",
    "    <li><h3>Hand over the JSON to Android developers</h3></li>\n",
    "</ul>"
   ]
  },
  {
   "cell_type": "markdown",
   "metadata": {
    "slideshow": {
     "slide_type": "slide"
    }
   },
   "source": [
    "# Typical Data Processing Pipeline\n",
    "![](images/flowchart.png)"
   ]
  },
  {
   "cell_type": "markdown",
   "metadata": {
    "slideshow": {
     "slide_type": "slide"
    }
   },
   "source": [
    "# Managing Raw Data\n",
    "## And Data Ingest as a Service\n",
    "\n",
    "<ul>\n",
    "    <li><h3>Raw data is an integral part of ETL and therefore of your software</h3></li>\n",
    "    <li><h3>Working off local flatflies is <em>bad</em>!</h3></li>\n",
    "    <li><h3>Learn to work from remote storage to remote storage. Use the \"cloud\".</h3></li>\n",
    "    <li><h3>What about experimental / exploratory work? Use things like sqlite!</h3></li>\n",
    "    <li><h3>Only use local files when:</h3></li>\n",
    "    <ul>\n",
    "        <li><h3>doing EDA or any interactive studies.</h3></li>\n",
    "        <li><h3>debugging a larger application.</h3></li>\n",
    "        <li><h3>prototyping (resist the temptation to deploy).</h3></li>\n",
    "    </ul>\n",
    "</ul>"
   ]
  },
  {
   "cell_type": "markdown",
   "metadata": {
    "slideshow": {
     "slide_type": "slide"
    }
   },
   "source": [
    "# Using Pandas for Data Ingest\n",
    "\n",
    "<ul>\n",
    "<li><h3>A few of million PSQL rows randomly sampled from over 15M rows</h3></li>\n",
    "<li><h3>Preprocessing with:</h3></li>\n",
    "<ul>\n",
    "<li><h3>Removing unicode, emoji, stopwords</h3></li>\n",
    "<li><h3>Converting to lowercase</h3></li>\n",
    "<li><h3>Dropping stopwords</h3></li>\n",
    "<li><h3>Cleaning any other malformed input</h3></li>\n",
    "</ul>\n",
    "<li><h3>Using a few hundred regular expressions to produce a labeled dataset</h3></li>\n",
    "</ul>\n"
   ]
  },
  {
   "cell_type": "markdown",
   "metadata": {
    "slideshow": {
     "slide_type": "slide"
    }
   },
   "source": [
    "# Using PySemantic to Wrap Pandas\n",
    "```yaml\n",
    "smsdata:\n",
    "  source: psql\n",
    "  table_name: messages_db\n",
    "  config:\n",
    "    hostname: 127.0.0.1\n",
    "    db_name: foo\n",
    "    username: bar\n",
    "  chunksize: 100000\n",
    "  sampling:\n",
    "    factor: 0.1\n",
    "    kind: random\n",
    "  dtypes:\n",
    "    Message: &string !!python/name:__builtin__.str\n",
    "    Number: *string\n",
    "    person: *string\n",
    "  postprocessors:\n",
    "    - !!python/name:jeeves.preprocessing.text.remove_unicode\n",
    "    - !!python/name:jeeves.preprocessing.text.remove_tabs\n",
    "    - !!python/name:jeeves.preprocessing.text.remove_digits\n",
    "    - !!python/name:jeeves.preprocessing.text.remove_stopwords\n",
    "    - !!python/name:jeeves.preprocessing.text.to_lowercase\n",
    "    - !!python/name:jeeves.feature_extraction.text.get_regex_features\n",
    "    - !!python/name:jeeves.feature_extraction.text.get_tfidf_features\n",
    "```\n",
    "```python\n",
    ">>> from pysemantic import Project\n",
    ">>> smartsms = Project(\"smartsms\")\n",
    ">>> X = smartsms.load_dataset(\"smsdata\")\n",
    "```"
   ]
  },
  {
   "cell_type": "markdown",
   "metadata": {
    "slideshow": {
     "slide_type": "slide"
    }
   },
   "source": [
    "# A Note about the AutoML project\n",
    "![](images/automl.png)\n",
    "<h4><i>\"If machine learning is so ubiquitous, one should just be able to use it without understanding libraries.\"</i></h4>\n",
    "<h4>- Andreas Mueller @ SciPy US 2016</h4>\n"
   ]
  },
  {
   "cell_type": "markdown",
   "metadata": {
    "slideshow": {
     "slide_type": "slide"
    }
   },
   "source": [
    "# Automating Model Selection\n",
    "\n",
    "![](https://raw.githubusercontent.com/spotify/luigi/master/doc/luigi.png)\n",
    "\n",
    "```python\n",
    "class CrossValidationTask(luigi.Task):\n",
    "    \n",
    "    estimator = luigi.Parameter() # or luigi.Target\n",
    "    \n",
    "    def run(self):\n",
    "        # Run CV loop\n",
    "\n",
    "\n",
    "class GridSearchTask(luigi.Task):\n",
    "    \n",
    "    grid = luigi.Parameter() # or Target\n",
    "    estimator = luigi.Parameter() # or Target\n",
    "    \n",
    "    def run(self):\n",
    "        X, y = self.input()\n",
    "        clf = GridSearchCV(self.estimator, param_grid=self.grid, ...)\n",
    "        clf.fit(X, y)\n",
    "        joblib.dump(clf.best_estimator_, self.output())\n",
    "```"
   ]
  },
  {
   "cell_type": "markdown",
   "metadata": {
    "slideshow": {
     "slide_type": "slide"
    }
   },
   "source": [
    "# Data Processing Pipeline as a Luigi Graph\n",
    "![](images/reosmessage_flowchart.png)"
   ]
  },
  {
   "cell_type": "markdown",
   "metadata": {
    "slideshow": {
     "slide_type": "slide"
    }
   },
   "source": [
    "# Visualizing (Data & ML performance)\n",
    "\n",
    "<ul>\n",
    "        <li><h3>Bokeh server for dashboards</h3></li>\n",
    "        <li><h3>Chaco / Traits-based visualizations - for interative exploration</h3></li>\n",
    "        <li><h3>Use libs like Seaborn for stats - resist the temptation to write them yourself</h3></li>\n",
    "    \n",
    "</ul>"
   ]
  },
  {
   "cell_type": "markdown",
   "metadata": {
    "slideshow": {
     "slide_type": "slide"
    }
   },
   "source": [
    "# Exposing Trained Models\n",
    "\n",
    "<ul>\n",
    "        <li><h3>Simple serialization methods</h3></li>\n",
    "        <li><h3>sklearn-compiledtrees</h3></li>\n",
    "        <li><h3>Don't use nonlinear models where linear models will do</h3></li>\n",
    "        <li><h3>The serveless paradigm - AWS Lambda / Amazon API Gateway, etc.</h3></li>\n",
    "    \n",
    "</ul>"
   ]
  },
  {
   "cell_type": "markdown",
   "metadata": {
    "slideshow": {
     "slide_type": "slide"
    }
   },
   "source": [
    "# Example: How we built & scaled ReosMessage\n",
    "\n",
    "<ul>\n",
    "    <li><h3><strike>Get a dump of a table from postgres</strike></h3></li>\n",
    "    <li><h3><strike>Use simple Python scripts and some pandas magic to clean the data</strike></h3></li>\n",
    "    <li><h3>Spark streaming API connected to Kafka consumers</h3></li>\n",
    "    <li><h3>Use <strike>regular expressions</strike> user feedback to label the data</h3></li>\n",
    "    <li><h3>Use Luigi to:</h3></li>\n",
    "        <ul>\n",
    "        <li><h3>Continuously run grid search and cross validation benchmarks</h3></li>\n",
    "        <li><h3>Train sklearn estimators on the labeled data</h3></li>\n",
    "        <li><h3>Dump the model coefficients to JSON</h3></li>\n",
    "        <li><h3>Hand over the JSON to Android developers</h3></li>\n",
    "        </ul>\n",
    "    <li><h3>Use Jenkins to drive everything</h3></li>\n",
    "</ul>"
   ]
  },
  {
   "cell_type": "markdown",
   "metadata": {
    "slideshow": {
     "slide_type": "slide"
    }
   },
   "source": [
    "![](images/no_data.jpg)"
   ]
  }
 ],
 "metadata": {
  "celltoolbar": "Slideshow",
  "kernelspec": {
   "display_name": "Python 2",
   "language": "python",
   "name": "python2"
  },
  "language_info": {
   "codemirror_mode": {
    "name": "ipython",
    "version": 2
   },
   "file_extension": ".py",
   "mimetype": "text/x-python",
   "name": "python",
   "nbconvert_exporter": "python",
   "pygments_lexer": "ipython2",
   "version": "2.7.10"
  }
 },
 "nbformat": 4,
 "nbformat_minor": 0
}
